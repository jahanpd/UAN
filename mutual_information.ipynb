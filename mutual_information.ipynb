{
 "cells": [
  {
   "cell_type": "code",
   "execution_count": 1,
   "metadata": {},
   "outputs": [],
   "source": [
    "import json\n",
    "import numpy as np\n",
    "import pandas as pd\n",
    "from sklearn.feature_selection import mutual_info_classif as MI\n",
    "\n",
    "X = pd.read_csv(\"X.csv\", index_col=False)\n",
    "y = pd.read_csv(\"y.csv\", index_col=False)\n",
    "\n",
    "with open('./app/static/feature_list.json', 'r') as file:\n",
    "    data_dict = json.load(file)\n",
    "file.close()\n",
    "\n",
    "discrete = [False if x['type'] == 'number' else True for x in data_dict]"
   ]
  },
  {
   "cell_type": "code",
   "execution_count": 8,
   "metadata": {},
   "outputs": [],
   "source": [
    "mis = []\n",
    "for y_ in [\"MORT30\"]: # list(y):\n",
    "    row = []\n",
    "    for i, x in enumerate(list(X)):\n",
    "        nans = np.isnan(X[x].values) | np.isnan(y[y_].values)\n",
    "        xtemp = X[x].values[~nans]\n",
    "        ytemp = y[y_].values[~nans]\n",
    "        if discrete[i]:\n",
    "            d = [True]\n",
    "        else:\n",
    "            d = [False]\n",
    "        m = MI(X=xtemp.reshape(-1,1), y=ytemp, discrete_features=d)\n",
    "        mis.append((x, m[0]))"
   ]
  },
  {
   "cell_type": "code",
   "execution_count": 11,
   "metadata": {},
   "outputs": [
    {
     "data": {
      "text/plain": [
       "[('Race1', 4.517749414433177e-06),\n",
       " ('DB', 9.410556771130563e-06),\n",
       " ('SMO_C', 1.4045245242416942e-05),\n",
       " ('PULM', 2.2109695025255964e-05),\n",
       " ('TRANS', 3.927396327125664e-05),\n",
       " ('HYT', 4.642587406041704e-05),\n",
       " ('TRICUS', 0.0001986954441311646),\n",
       " ('HCHOL', 0.00022267984825065368),\n",
       " ('SMO_H', 0.00023067205713096436),\n",
       " ('DB_CON', 0.0002939980627854647),\n",
       " ('Insur', 0.00033825976974395156),\n",
       " ('MITRAL', 0.00034286337169230074),\n",
       " ('LD_T', 0.00034537633006003973),\n",
       " ('AORTIC', 0.00041315716637085886),\n",
       " ('CBVD_T', 0.00042310383117914047),\n",
       " ('PVD', 0.000579793327841048),\n",
       " ('Sex', 0.0006388924412182029),\n",
       " ('IE_T', 0.0007932183380885338),\n",
       " ('DIAL', 0.0008846988190267628),\n",
       " ('POP', 0.0009940755364910986),\n",
       " ('ARRT', 0.0015707202142540245),\n",
       " ('BMI', 0.0018488014133457575),\n",
       " ('AGE', 0.0022108593765959306),\n",
       " ('CHF', 0.003009249835179424),\n",
       " ('EF_EST', 0.003053809429096971),\n",
       " ('HG', 0.003590914634278297),\n",
       " ('TP', 0.004127041113596516),\n",
       " ('NYHA', 0.0044676844081875736),\n",
       " ('EF', 0.004735436406314797),\n",
       " ('PRECR', 0.005171739942923637),\n",
       " ('MINHT', 0.005660486714136104),\n",
       " ('CHF_C', 0.005690852982661525),\n",
       " ('CCT', 0.006101470380664775),\n",
       " ('SHOCK', 0.006798970155633893),\n",
       " ('eGFR', 0.008643236840912616),\n",
       " ('STAT', 0.009736517933014393),\n",
       " ('PERF', 0.011017646966535954),\n",
       " ('DRAIN_4', 0.01657051010391175),\n",
       " ('ICU', 0.01805586709596696),\n",
       " ('VENT', 0.020073331014343276),\n",
       " ('PROCNO', 0.03221297882600882)]"
      ]
     },
     "execution_count": 11,
     "metadata": {},
     "output_type": "execute_result"
    }
   ],
   "source": [
    "mis.sort(key=lambda x: x[1])\n",
    "mis"
   ]
  },
  {
   "cell_type": "code",
   "execution_count": null,
   "metadata": {},
   "outputs": [],
   "source": []
  }
 ],
 "metadata": {
  "kernelspec": {
   "display_name": "Python 3",
   "language": "python",
   "name": "python3"
  },
  "language_info": {
   "codemirror_mode": {
    "name": "ipython",
    "version": 3
   },
   "file_extension": ".py",
   "mimetype": "text/x-python",
   "name": "python",
   "nbconvert_exporter": "python",
   "pygments_lexer": "ipython3",
   "version": "3.7.10"
  }
 },
 "nbformat": 4,
 "nbformat_minor": 4
}
