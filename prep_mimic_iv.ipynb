{
 "cells": [
  {
   "cell_type": "code",
   "execution_count": 15,
   "metadata": {},
   "outputs": [
    {
     "name": "stdout",
     "output_type": "stream",
     "text": [
      "(8950, 38)\n",
      "(8039, 38)\n",
      "['subject_id', 'hadm_id', 'stay_id', 'age', 'gender', 'height', 'weight_admit', 'admission_type', 'admission_location', 'admittime', 'dischtime', 'insurance', 'icustay_seq', 'los', 'first_careunit', 'last_careunit', 'hospital_expire_flag', 'cabg', 'aortic', 'mitral', 'tricuspid', 'pulmonary', 'deathtime', 'dod', 'myocardial_infarct', 'arrhythmia', 'congestive_heart_failure', 'peripheral_vascular_disease', 'cerebrovascular_disease', 'chronic_pulmonary_disease', 'diabetes_without_cc', 'diabetes_with_cc', 't1dm', 't2dm', 'renal_disease', 'smoking', 'charlson_comorbidity_index', 'scr_baseline']\n"
     ]
    }
   ],
   "source": [
    "import json\n",
    "import numpy as np\n",
    "import pandas as pd\n",
    "\n",
    "mimiciv = pd.read_csv('mimicIV.csv')\n",
    "print(mimiciv.shape)\n",
    "mimiciv = mimiciv[mimiciv.icustay_seq == 1]\n",
    "print(mimiciv.shape)\n",
    "print(list(mimiciv))"
   ]
  },
  {
   "cell_type": "code",
   "execution_count": 33,
   "metadata": {},
   "outputs": [
    {
     "name": "stdout",
     "output_type": "stream",
     "text": [
      "(7974,)\n",
      "(8039,)\n"
     ]
    }
   ],
   "source": [
    "# solve for number of unique pts and relabel dataset etc\n",
    "processed = {}\n",
    "print(mimiciv.subject_id.unique().shape)\n",
    "print(mimiciv.stay_id.unique().shape)\n",
    "\n",
    "['AGE',\n",
    " 'Sex',\n",
    " 'BMI',\n",
    " 'TP',\n",
    " 'Insur',\n",
    " 'ARRT',\n",
    " 'PVD',\n",
    " 'HYT',\n",
    " 'SMO_H',\n",
    " 'CHF',\n",
    " 'LD',\n",
    " 'DB',\n",
    " 'ICU',\n",
    " 'MORT30',\n",
    " 'HCHOL',\n",
    " 'PRECR']\n",
    "\n",
    "processed['AGE'] = mimiciv.age.values\n",
    "processed['Sex'] = np.array([0 if x == 'F' else 1 for x in mimiciv.gender.values])\n",
    "processed['BMI'] = mimiciv.weight_admit.values / ((mimiciv.height.values /100 ) ** 2)\n",
    "valve = mimiciv.aortic.values + mimiciv.mitral.values + mimiciv.tricuspid.values + mimiciv.pulmonary.values\n",
    "valve = [2 if v > 0 else 0 for v in valve]\n",
    "operation = mimiciv.cabg.values + np.array(valve)\n",
    "processed['TP'] = operation\n",
    "processed['AORTIC'] = mimiciv.aortic.values\n",
    "processed['MITRAL'] = mimiciv.mitral.values\n",
    "processed['TRICUS'] = mimiciv.tricuspid.values\n",
    "processed['PULM'] = mimiciv.pulmonary.values"
   ]
  },
  {
   "cell_type": "code",
   "execution_count": 34,
   "metadata": {},
   "outputs": [
    {
     "data": {
      "text/plain": [
       "{'AGE': array([80, 63, 73, ..., 72, 75, 81]),\n",
       " 'Sex': array([0, 1, 0, ..., 0, 1, 1]),\n",
       " 'BMI': array([28.13365651, 39.30211203, 28.9824263 , ..., 35.05886427,\n",
       "        25.32174744, 33.74653346]),\n",
       " 'TP': array([1, 2, 2, ..., 1, 1, 1]),\n",
       " 'AORTIC': array([0, 1, 1, ..., 0, 0, 0]),\n",
       " 'MITRAL': array([0, 0, 0, ..., 0, 0, 0]),\n",
       " 'TRICUS': array([0, 0, 1, ..., 0, 0, 0]),\n",
       " 'PULM': array([0, 0, 0, ..., 0, 0, 0])}"
      ]
     },
     "execution_count": 34,
     "metadata": {},
     "output_type": "execute_result"
    }
   ],
   "source": [
    "processed"
   ]
  },
  {
   "cell_type": "code",
   "execution_count": 19,
   "metadata": {},
   "outputs": [
    {
     "data": {
      "text/plain": [
       "M    5738\n",
       "F    2301\n",
       "Name: gender, dtype: int64"
      ]
     },
     "execution_count": 19,
     "metadata": {},
     "output_type": "execute_result"
    }
   ],
   "source": [
    "mimiciv.gender.value_counts()"
   ]
  },
  {
   "cell_type": "code",
   "execution_count": null,
   "metadata": {},
   "outputs": [],
   "source": []
  }
 ],
 "metadata": {
  "kernelspec": {
   "display_name": "Python 3",
   "language": "python",
   "name": "python3"
  },
  "language_info": {
   "codemirror_mode": {
    "name": "ipython",
    "version": 3
   },
   "file_extension": ".py",
   "mimetype": "text/x-python",
   "name": "python",
   "nbconvert_exporter": "python",
   "pygments_lexer": "ipython3",
   "version": "3.9.2"
  }
 },
 "nbformat": 4,
 "nbformat_minor": 4
}
